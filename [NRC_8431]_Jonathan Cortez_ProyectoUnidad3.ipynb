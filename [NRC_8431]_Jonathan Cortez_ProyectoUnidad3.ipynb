{
 "cells": [
  {
   "cell_type": "code",
   "execution_count": 2,
   "id": "47221f53",
   "metadata": {},
   "outputs": [],
   "source": [
    "#Para esta actividad se importarán las siguientes librerías:\n",
    "# import packages\n",
    "import pandas as pd\n",
    "import numpy as np\n",
    "from sklearn.model_selection import train_test_split\n",
    "from sklearn.preprocessing import StandardScaler\n",
    "from sklearn.neighbors import KNeighborsClassifier\n",
    "from sklearn.metrics import classification_report, confusion_matrix\n",
    "import matplotlib.pyplot as plt\n",
    "from sklearn import metrics\n",
    "from sklearn.model_selection import train_test_split\n",
    "from sklearn.linear_model import LogisticRegressionCV\n",
    "from sklearn.metrics import classification_report\n",
    "from keras.models import Sequential\n",
    "from keras.layers import Dense, LSTM, Conv1D, MaxPooling1D, Flatten, ConvLSTM2D, Dropout\n",
    "from keras.optimizers import Adam"
   ]
  },
  {
   "cell_type": "code",
   "execution_count": 3,
   "id": "16fbfe5a",
   "metadata": {},
   "outputs": [],
   "source": [
    "#Código para cargar el Dataset \n",
    "#url dataset\n",
    "url='https://raw.githubusercontent.com/JonathanC1/Datasets/master/TorNonTor/SelectedFeatures-10s-TOR-NonTOR.csv'\n",
    "#cargar datos en base a la url del dataset\n",
    "df=pd.read_csv(url,dtype=\"category\")"
   ]
  },
  {
   "cell_type": "code",
   "execution_count": 4,
   "id": "eae77797",
   "metadata": {},
   "outputs": [],
   "source": [
    "X = df.drop(['label'], axis = 1)\n",
    "y = df['label']"
   ]
  },
  {
   "cell_type": "code",
   "execution_count": 5,
   "id": "426fdfec",
   "metadata": {},
   "outputs": [],
   "source": [
    "def dfNormalize(df):\n",
    "    for feature_name in df.columns:\n",
    "        df.loc[:,feature_name]= pd.to_numeric(df.loc[:,feature_name], errors='coerce').fillna(0)\n",
    "        max_value = df[feature_name].max()\n",
    "        min_value = df[feature_name].min()   \n",
    "        if (max_value - min_value) > 0:\n",
    "            df.loc[:,feature_name] = (df.loc[:,feature_name] - min_value) / (max_value - min_value)\n",
    "        else:\n",
    "            df.loc[:,feature_name] = (df.loc[:,feature_name]- min_value)    \n",
    "    return df"
   ]
  },
  {
   "cell_type": "code",
   "execution_count": 6,
   "id": "9abfc414",
   "metadata": {},
   "outputs": [
    {
     "name": "stdout",
     "output_type": "stream",
     "text": [
      "(16088, 29)\n",
      "        Source IP  Source Port  Destination IP  Destination Port  Protocol  \\\n",
      "count       16088        16088           16088             16088     16088   \n",
      "unique        267         2301             660              1092         1   \n",
      "top     10.0.2.15          443       10.0.2.15               443         6   \n",
      "freq         5290         3054            2894              8072     16088   \n",
      "\n",
      "        Flow Duration  Flow Bytes/s       Flow Packets/s  Flow IAT Mean  \\\n",
      "count           16088         16088                16088          16088   \n",
      "unique          14003          7967                14370          14363   \n",
      "top                38             0  526.315.789.473.684             38   \n",
      "freq               20          8084                   18             18   \n",
      "\n",
      "        Flow IAT Std  ...  Bwd IAT Min Active Mean  Active Std  Active Max  \\\n",
      "count          16088  ...        16088       16088       16088       16088   \n",
      "unique          8900  ...         1655         535           1         535   \n",
      "top                0  ...            0           0           0           0   \n",
      "freq            7092  ...         9247       15514       16088       15514   \n",
      "\n",
      "        Active Min Idle Mean  Idle Std  Idle Max  Idle Min  label  \n",
      "count        16088     16088     16088     16088     16088  16088  \n",
      "unique         535       576         1       576       576      2  \n",
      "top              0         0         0         0         0    TOR  \n",
      "freq         15514     15513     16088     15513     15513   8044  \n",
      "\n",
      "[4 rows x 29 columns]\n",
      "['Source IP', ' Source Port', ' Destination IP', ' Destination Port', ' Protocol', ' Flow Duration', ' Flow Bytes/s', ' Flow Packets/s', ' Flow IAT Mean', ' Flow IAT Std', ' Flow IAT Max', ' Flow IAT Min', 'Fwd IAT Mean', ' Fwd IAT Std', ' Fwd IAT Max', ' Fwd IAT Min', 'Bwd IAT Mean', ' Bwd IAT Std', ' Bwd IAT Max', ' Bwd IAT Min', 'Active Mean', ' Active Std', ' Active Max', ' Active Min', 'Idle Mean', ' Idle Std', ' Idle Max', ' Idle Min', 'label']\n"
     ]
    }
   ],
   "source": [
    "print(df.shape)\n",
    "dataframe = df.reindex(np.random.permutation(df.index)).copy()\n",
    "print(dataframe.describe())\n",
    "print(list(dataframe))"
   ]
  },
  {
   "cell_type": "code",
   "execution_count": 7,
   "id": "7b530bd7",
   "metadata": {},
   "outputs": [
    {
     "name": "stdout",
     "output_type": "stream",
     "text": [
      "        Protocol   Flow Duration   Flow Bytes/s   Flow Packets/s  \\\n",
      "count    16088.0    16088.000000   16088.000000     16088.000000   \n",
      "mean         0.0        0.442243       0.000295         0.000620   \n",
      "std          0.0        0.465090       0.012537         0.017354   \n",
      "min          0.0        0.000000       0.000000         0.000000   \n",
      "25%          0.0        0.003711       0.000000         0.000000   \n",
      "50%          0.0        0.077809       0.000000         0.000000   \n",
      "75%          0.0        0.996548       0.000000         0.000000   \n",
      "max          0.0        1.000000       1.000000         1.000000   \n",
      "\n",
      "        Flow IAT Mean   Flow IAT Std   Flow IAT Max   Flow IAT Min  \\\n",
      "count    16088.000000        16088.0   16088.000000   16088.000000   \n",
      "mean         0.014998            0.0       0.081417       0.007002   \n",
      "std          0.062858            0.0       0.177617       0.042685   \n",
      "min          0.000000            0.0       0.000000       0.000000   \n",
      "25%          0.000000            0.0       0.003708       0.000228   \n",
      "50%          0.000013            0.0       0.010545       0.000233   \n",
      "75%          0.003968            0.0       0.038336       0.003619   \n",
      "max          1.000000            0.0       1.000000       1.000000   \n",
      "\n",
      "       Fwd IAT Mean   Fwd IAT Std  ...   Bwd IAT Max   Bwd IAT Min  \\\n",
      "count  16088.000000       16088.0  ...  1.608800e+04  16088.000000   \n",
      "mean       0.017046           0.0  ...  5.995891e-02      0.005802   \n",
      "std        0.079810           0.0  ...  1.525777e-01      0.058134   \n",
      "min        0.000000           0.0  ...  0.000000e+00      0.000000   \n",
      "25%        0.000000           0.0  ...  0.000000e+00      0.000033   \n",
      "50%        0.000000           0.0  ...  7.002169e-07      0.000033   \n",
      "75%        0.000000           0.0  ...  2.401574e-02      0.000035   \n",
      "max        1.000000           0.0  ...  1.000000e+00      1.000000   \n",
      "\n",
      "        Active Mean   Active Std    Active Max    Active Min    Idle Mean  \\\n",
      "count  16088.000000      16088.0  16088.000000  16088.000000  16088.00000   \n",
      "mean       0.005490          0.0      0.005490      0.005490      0.02577   \n",
      "std        0.049841          0.0      0.049841      0.049841      0.13660   \n",
      "min        0.000000          0.0      0.000000      0.000000      0.00000   \n",
      "25%        0.000000          0.0      0.000000      0.000000      0.00000   \n",
      "50%        0.000000          0.0      0.000000      0.000000      0.00000   \n",
      "75%        0.000000          0.0      0.000000      0.000000      0.00000   \n",
      "max        1.000000          0.0      1.000000      1.000000      1.00000   \n",
      "\n",
      "        Idle Std     Idle Max     Idle Min  \n",
      "count    16088.0  16088.00000  16088.00000  \n",
      "mean         0.0      0.02577      0.02577  \n",
      "std          0.0      0.13660      0.13660  \n",
      "min          0.0      0.00000      0.00000  \n",
      "25%          0.0      0.00000      0.00000  \n",
      "50%          0.0      0.00000      0.00000  \n",
      "75%          0.0      0.00000      0.00000  \n",
      "max          0.0      1.00000      1.00000  \n",
      "\n",
      "[8 rows x 24 columns]\n"
     ]
    }
   ],
   "source": [
    "keys = dataframe.keys()\n",
    "data_to_process = dataframe[keys[4:len(keys) - 1]].copy()\n",
    "x_normalised = dfNormalize(data_to_process)\n",
    "print(x_normalised.describe())"
   ]
  },
  {
   "cell_type": "code",
   "execution_count": 8,
   "id": "382d496b",
   "metadata": {},
   "outputs": [],
   "source": [
    "change_labels = lambda x: 1 if x == 'nonTOR' else 0\n",
    "y_normalised = dataframe['label'].apply(change_labels)"
   ]
  },
  {
   "cell_type": "code",
   "execution_count": 9,
   "id": "445a4594",
   "metadata": {},
   "outputs": [],
   "source": [
    "X_train, X_test, y_train, y_test = train_test_split(x_normalised, y_normalised, test_size = 0.2, random_state=2)"
   ]
  },
  {
   "cell_type": "code",
   "execution_count": 10,
   "id": "01a024b6",
   "metadata": {},
   "outputs": [],
   "source": [
    "scaler = StandardScaler()\n",
    "scaler.fit(X_train)\n",
    "\n",
    "X_train = scaler.transform(X_train)\n",
    "X_test = scaler.transform(X_test)"
   ]
  },
  {
   "cell_type": "code",
   "execution_count": 11,
   "id": "90af51c3",
   "metadata": {},
   "outputs": [
    {
     "data": {
      "text/plain": [
       "KNeighborsClassifier()"
      ]
     },
     "execution_count": 11,
     "metadata": {},
     "output_type": "execute_result"
    }
   ],
   "source": [
    "classifier = KNeighborsClassifier(n_neighbors=5)\n",
    "classifier.fit(X_train, y_train)"
   ]
  },
  {
   "cell_type": "code",
   "execution_count": 12,
   "id": "49efd85f",
   "metadata": {},
   "outputs": [
    {
     "name": "stderr",
     "output_type": "stream",
     "text": [
      "C:\\Users\\ELEN\\anaconda3\\lib\\site-packages\\sklearn\\neighbors\\_classification.py:228: FutureWarning: Unlike other reduction functions (e.g. `skew`, `kurtosis`), the default behavior of `mode` typically preserves the axis it acts along. In SciPy 1.11.0, this behavior will change: the default value of `keepdims` will become False, the `axis` over which the statistic is taken will be eliminated, and the value None will no longer be accepted. Set `keepdims` to True or False to avoid this warning.\n",
      "  mode, _ = stats.mode(_y[neigh_ind, k], axis=1)\n"
     ]
    }
   ],
   "source": [
    "y_pred = classifier.predict(X_test)"
   ]
  },
  {
   "cell_type": "code",
   "execution_count": 13,
   "id": "f4709421",
   "metadata": {},
   "outputs": [
    {
     "name": "stdout",
     "output_type": "stream",
     "text": [
      "              precision    recall  f1-score   support\n",
      "\n",
      "      NonTor       0.99      0.98      0.99      1632\n",
      "         Tor       0.98      0.99      0.99      1586\n",
      "\n",
      "    accuracy                           0.99      3218\n",
      "   macro avg       0.99      0.99      0.99      3218\n",
      "weighted avg       0.99      0.99      0.99      3218\n",
      "\n",
      "Accuracy = 98.57\n"
     ]
    },
    {
     "name": "stderr",
     "output_type": "stream",
     "text": [
      "C:\\Users\\ELEN\\anaconda3\\lib\\site-packages\\sklearn\\neighbors\\_classification.py:228: FutureWarning: Unlike other reduction functions (e.g. `skew`, `kurtosis`), the default behavior of `mode` typically preserves the axis it acts along. In SciPy 1.11.0, this behavior will change: the default value of `keepdims` will become False, the `axis` over which the statistic is taken will be eliminated, and the value None will no longer be accepted. Set `keepdims` to True or False to avoid this warning.\n",
      "  mode, _ = stats.mode(_y[neigh_ind, k], axis=1)\n"
     ]
    }
   ],
   "source": [
    "from sklearn.metrics import classification_report\n",
    "# reporte de clasificación precision, recall f1-score and accuracy\n",
    "target_names = ['NonTor', 'Tor']\n",
    "print(classification_report(y_test,y_pred,target_names = target_names))\n",
    "cart = metrics.accuracy_score(y_test, y_pred)\n",
    "print(\"Accuracy = {:.2f}\".format(classifier.score(X_test, y_test.values)*100))"
   ]
  },
  {
   "cell_type": "code",
   "execution_count": 14,
   "id": "42cf77e2",
   "metadata": {},
   "outputs": [
    {
     "name": "stderr",
     "output_type": "stream",
     "text": [
      "C:\\Users\\ELEN\\anaconda3\\lib\\site-packages\\sklearn\\linear_model\\_logistic.py:814: ConvergenceWarning: lbfgs failed to converge (status=1):\n",
      "STOP: TOTAL NO. of ITERATIONS REACHED LIMIT.\n",
      "\n",
      "Increase the number of iterations (max_iter) or scale the data as shown in:\n",
      "    https://scikit-learn.org/stable/modules/preprocessing.html\n",
      "Please also refer to the documentation for alternative solver options:\n",
      "    https://scikit-learn.org/stable/modules/linear_model.html#logistic-regression\n",
      "  n_iter_i = _check_optimize_result(\n",
      "C:\\Users\\ELEN\\anaconda3\\lib\\site-packages\\sklearn\\linear_model\\_logistic.py:814: ConvergenceWarning: lbfgs failed to converge (status=1):\n",
      "STOP: TOTAL NO. of ITERATIONS REACHED LIMIT.\n",
      "\n",
      "Increase the number of iterations (max_iter) or scale the data as shown in:\n",
      "    https://scikit-learn.org/stable/modules/preprocessing.html\n",
      "Please also refer to the documentation for alternative solver options:\n",
      "    https://scikit-learn.org/stable/modules/linear_model.html#logistic-regression\n",
      "  n_iter_i = _check_optimize_result(\n",
      "C:\\Users\\ELEN\\anaconda3\\lib\\site-packages\\sklearn\\linear_model\\_logistic.py:814: ConvergenceWarning: lbfgs failed to converge (status=1):\n",
      "STOP: TOTAL NO. of ITERATIONS REACHED LIMIT.\n",
      "\n",
      "Increase the number of iterations (max_iter) or scale the data as shown in:\n",
      "    https://scikit-learn.org/stable/modules/preprocessing.html\n",
      "Please also refer to the documentation for alternative solver options:\n",
      "    https://scikit-learn.org/stable/modules/linear_model.html#logistic-regression\n",
      "  n_iter_i = _check_optimize_result(\n",
      "C:\\Users\\ELEN\\anaconda3\\lib\\site-packages\\sklearn\\linear_model\\_logistic.py:814: ConvergenceWarning: lbfgs failed to converge (status=1):\n",
      "STOP: TOTAL NO. of ITERATIONS REACHED LIMIT.\n",
      "\n",
      "Increase the number of iterations (max_iter) or scale the data as shown in:\n",
      "    https://scikit-learn.org/stable/modules/preprocessing.html\n",
      "Please also refer to the documentation for alternative solver options:\n",
      "    https://scikit-learn.org/stable/modules/linear_model.html#logistic-regression\n",
      "  n_iter_i = _check_optimize_result(\n",
      "C:\\Users\\ELEN\\anaconda3\\lib\\site-packages\\sklearn\\linear_model\\_logistic.py:814: ConvergenceWarning: lbfgs failed to converge (status=1):\n",
      "STOP: TOTAL NO. of ITERATIONS REACHED LIMIT.\n",
      "\n",
      "Increase the number of iterations (max_iter) or scale the data as shown in:\n",
      "    https://scikit-learn.org/stable/modules/preprocessing.html\n",
      "Please also refer to the documentation for alternative solver options:\n",
      "    https://scikit-learn.org/stable/modules/linear_model.html#logistic-regression\n",
      "  n_iter_i = _check_optimize_result(\n",
      "C:\\Users\\ELEN\\anaconda3\\lib\\site-packages\\sklearn\\linear_model\\_logistic.py:814: ConvergenceWarning: lbfgs failed to converge (status=1):\n",
      "STOP: TOTAL NO. of ITERATIONS REACHED LIMIT.\n",
      "\n",
      "Increase the number of iterations (max_iter) or scale the data as shown in:\n",
      "    https://scikit-learn.org/stable/modules/preprocessing.html\n",
      "Please also refer to the documentation for alternative solver options:\n",
      "    https://scikit-learn.org/stable/modules/linear_model.html#logistic-regression\n",
      "  n_iter_i = _check_optimize_result(\n",
      "C:\\Users\\ELEN\\anaconda3\\lib\\site-packages\\sklearn\\linear_model\\_logistic.py:814: ConvergenceWarning: lbfgs failed to converge (status=1):\n",
      "STOP: TOTAL NO. of ITERATIONS REACHED LIMIT.\n",
      "\n",
      "Increase the number of iterations (max_iter) or scale the data as shown in:\n",
      "    https://scikit-learn.org/stable/modules/preprocessing.html\n",
      "Please also refer to the documentation for alternative solver options:\n",
      "    https://scikit-learn.org/stable/modules/linear_model.html#logistic-regression\n",
      "  n_iter_i = _check_optimize_result(\n",
      "C:\\Users\\ELEN\\anaconda3\\lib\\site-packages\\sklearn\\linear_model\\_logistic.py:814: ConvergenceWarning: lbfgs failed to converge (status=1):\n",
      "STOP: TOTAL NO. of ITERATIONS REACHED LIMIT.\n",
      "\n",
      "Increase the number of iterations (max_iter) or scale the data as shown in:\n",
      "    https://scikit-learn.org/stable/modules/preprocessing.html\n",
      "Please also refer to the documentation for alternative solver options:\n",
      "    https://scikit-learn.org/stable/modules/linear_model.html#logistic-regression\n",
      "  n_iter_i = _check_optimize_result(\n",
      "C:\\Users\\ELEN\\anaconda3\\lib\\site-packages\\sklearn\\linear_model\\_logistic.py:814: ConvergenceWarning: lbfgs failed to converge (status=1):\n",
      "STOP: TOTAL NO. of ITERATIONS REACHED LIMIT.\n",
      "\n",
      "Increase the number of iterations (max_iter) or scale the data as shown in:\n",
      "    https://scikit-learn.org/stable/modules/preprocessing.html\n",
      "Please also refer to the documentation for alternative solver options:\n",
      "    https://scikit-learn.org/stable/modules/linear_model.html#logistic-regression\n",
      "  n_iter_i = _check_optimize_result(\n",
      "C:\\Users\\ELEN\\anaconda3\\lib\\site-packages\\sklearn\\linear_model\\_logistic.py:814: ConvergenceWarning: lbfgs failed to converge (status=1):\n",
      "STOP: TOTAL NO. of ITERATIONS REACHED LIMIT.\n",
      "\n",
      "Increase the number of iterations (max_iter) or scale the data as shown in:\n",
      "    https://scikit-learn.org/stable/modules/preprocessing.html\n",
      "Please also refer to the documentation for alternative solver options:\n",
      "    https://scikit-learn.org/stable/modules/linear_model.html#logistic-regression\n",
      "  n_iter_i = _check_optimize_result(\n",
      "C:\\Users\\ELEN\\anaconda3\\lib\\site-packages\\sklearn\\linear_model\\_logistic.py:814: ConvergenceWarning: lbfgs failed to converge (status=1):\n",
      "STOP: TOTAL NO. of ITERATIONS REACHED LIMIT.\n",
      "\n",
      "Increase the number of iterations (max_iter) or scale the data as shown in:\n",
      "    https://scikit-learn.org/stable/modules/preprocessing.html\n",
      "Please also refer to the documentation for alternative solver options:\n",
      "    https://scikit-learn.org/stable/modules/linear_model.html#logistic-regression\n",
      "  n_iter_i = _check_optimize_result(\n",
      "C:\\Users\\ELEN\\anaconda3\\lib\\site-packages\\sklearn\\linear_model\\_logistic.py:814: ConvergenceWarning: lbfgs failed to converge (status=1):\n",
      "STOP: TOTAL NO. of ITERATIONS REACHED LIMIT.\n",
      "\n",
      "Increase the number of iterations (max_iter) or scale the data as shown in:\n",
      "    https://scikit-learn.org/stable/modules/preprocessing.html\n",
      "Please also refer to the documentation for alternative solver options:\n",
      "    https://scikit-learn.org/stable/modules/linear_model.html#logistic-regression\n",
      "  n_iter_i = _check_optimize_result(\n",
      "C:\\Users\\ELEN\\anaconda3\\lib\\site-packages\\sklearn\\linear_model\\_logistic.py:814: ConvergenceWarning: lbfgs failed to converge (status=1):\n",
      "STOP: TOTAL NO. of ITERATIONS REACHED LIMIT.\n",
      "\n",
      "Increase the number of iterations (max_iter) or scale the data as shown in:\n",
      "    https://scikit-learn.org/stable/modules/preprocessing.html\n",
      "Please also refer to the documentation for alternative solver options:\n",
      "    https://scikit-learn.org/stable/modules/linear_model.html#logistic-regression\n",
      "  n_iter_i = _check_optimize_result(\n",
      "C:\\Users\\ELEN\\anaconda3\\lib\\site-packages\\sklearn\\linear_model\\_logistic.py:814: ConvergenceWarning: lbfgs failed to converge (status=1):\n",
      "STOP: TOTAL NO. of ITERATIONS REACHED LIMIT.\n",
      "\n",
      "Increase the number of iterations (max_iter) or scale the data as shown in:\n",
      "    https://scikit-learn.org/stable/modules/preprocessing.html\n",
      "Please also refer to the documentation for alternative solver options:\n",
      "    https://scikit-learn.org/stable/modules/linear_model.html#logistic-regression\n",
      "  n_iter_i = _check_optimize_result(\n",
      "C:\\Users\\ELEN\\anaconda3\\lib\\site-packages\\sklearn\\linear_model\\_logistic.py:814: ConvergenceWarning: lbfgs failed to converge (status=1):\n",
      "STOP: TOTAL NO. of ITERATIONS REACHED LIMIT.\n",
      "\n",
      "Increase the number of iterations (max_iter) or scale the data as shown in:\n",
      "    https://scikit-learn.org/stable/modules/preprocessing.html\n",
      "Please also refer to the documentation for alternative solver options:\n",
      "    https://scikit-learn.org/stable/modules/linear_model.html#logistic-regression\n",
      "  n_iter_i = _check_optimize_result(\n",
      "C:\\Users\\ELEN\\anaconda3\\lib\\site-packages\\sklearn\\linear_model\\_logistic.py:814: ConvergenceWarning: lbfgs failed to converge (status=1):\n",
      "STOP: TOTAL NO. of ITERATIONS REACHED LIMIT.\n",
      "\n",
      "Increase the number of iterations (max_iter) or scale the data as shown in:\n",
      "    https://scikit-learn.org/stable/modules/preprocessing.html\n",
      "Please also refer to the documentation for alternative solver options:\n",
      "    https://scikit-learn.org/stable/modules/linear_model.html#logistic-regression\n",
      "  n_iter_i = _check_optimize_result(\n"
     ]
    },
    {
     "name": "stderr",
     "output_type": "stream",
     "text": [
      "C:\\Users\\ELEN\\anaconda3\\lib\\site-packages\\sklearn\\linear_model\\_logistic.py:814: ConvergenceWarning: lbfgs failed to converge (status=1):\n",
      "STOP: TOTAL NO. of ITERATIONS REACHED LIMIT.\n",
      "\n",
      "Increase the number of iterations (max_iter) or scale the data as shown in:\n",
      "    https://scikit-learn.org/stable/modules/preprocessing.html\n",
      "Please also refer to the documentation for alternative solver options:\n",
      "    https://scikit-learn.org/stable/modules/linear_model.html#logistic-regression\n",
      "  n_iter_i = _check_optimize_result(\n"
     ]
    },
    {
     "data": {
      "text/plain": [
       "LogisticRegressionCV()"
      ]
     },
     "execution_count": 14,
     "metadata": {},
     "output_type": "execute_result"
    }
   ],
   "source": [
    "#RL\n",
    "lr=LogisticRegressionCV() \n",
    "lr.fit(X_train, y_train)"
   ]
  },
  {
   "cell_type": "code",
   "execution_count": 15,
   "id": "d0b05085",
   "metadata": {},
   "outputs": [],
   "source": [
    "y_pred = lr.predict(X_test)"
   ]
  },
  {
   "cell_type": "code",
   "execution_count": 16,
   "id": "2fe77c4c",
   "metadata": {},
   "outputs": [
    {
     "name": "stdout",
     "output_type": "stream",
     "text": [
      "              precision    recall  f1-score   support\n",
      "\n",
      "      NonTor       0.99      0.97      0.98      1632\n",
      "         Tor       0.97      0.99      0.98      1586\n",
      "\n",
      "    accuracy                           0.98      3218\n",
      "   macro avg       0.98      0.98      0.98      3218\n",
      "weighted avg       0.98      0.98      0.98      3218\n",
      "\n",
      "Accuracy = 98.04\n"
     ]
    }
   ],
   "source": [
    "from sklearn.metrics import classification_report\n",
    "# reporte de clasificación precision, recall f1-score and accuracy\n",
    "target_names = ['NonTor', 'Tor']\n",
    "print(classification_report(y_test,y_pred,target_names=target_names))\n",
    "rfc = metrics.accuracy_score(y_test, y_pred)\n",
    "print(\"Accuracy = {:.2f}\".format(lr.score(X_test, y_test.values)*100))"
   ]
  },
  {
   "cell_type": "code",
   "execution_count": 17,
   "id": "8b6ea24c",
   "metadata": {},
   "outputs": [],
   "source": [
    "# Build the LSTM model\n",
    "model = Sequential()\n",
    "model.add(LSTM(128,activation='relu',input_shape=(x_normalised.shape[1],1)))\n",
    "model.add(Dropout(0.2))\n",
    "model.add(Dense(1, activation='sigmoid'))\n",
    "model.compile(loss='binary_crossentropy', optimizer='adam', metrics=['accuracy'])"
   ]
  },
  {
   "cell_type": "code",
   "execution_count": 18,
   "id": "22acf433",
   "metadata": {},
   "outputs": [
    {
     "name": "stdout",
     "output_type": "stream",
     "text": [
      "Epoch 1/20\n",
      "403/403 [==============================] - 9s 18ms/step - loss: 0.5521 - accuracy: 0.8820 - val_loss: 0.2403 - val_accuracy: 0.9142\n",
      "Epoch 2/20\n",
      "403/403 [==============================] - 6s 15ms/step - loss: 0.2200 - accuracy: 0.9228 - val_loss: 0.1785 - val_accuracy: 0.9397\n",
      "Epoch 3/20\n",
      "403/403 [==============================] - 6s 15ms/step - loss: 0.1807 - accuracy: 0.9455 - val_loss: 0.1510 - val_accuracy: 0.9487\n",
      "Epoch 4/20\n",
      "403/403 [==============================] - 6s 15ms/step - loss: 0.1568 - accuracy: 0.9526 - val_loss: 0.1272 - val_accuracy: 0.9574\n",
      "Epoch 5/20\n",
      "403/403 [==============================] - 6s 15ms/step - loss: 0.1764 - accuracy: 0.9413 - val_loss: 0.1510 - val_accuracy: 0.9444\n",
      "Epoch 6/20\n",
      "403/403 [==============================] - 7s 17ms/step - loss: 0.1415 - accuracy: 0.9548 - val_loss: 0.1262 - val_accuracy: 0.9559\n",
      "Epoch 7/20\n",
      "403/403 [==============================] - 11s 27ms/step - loss: 0.1213 - accuracy: 0.9627 - val_loss: 0.0896 - val_accuracy: 0.9717\n",
      "Epoch 8/20\n",
      "403/403 [==============================] - 6s 15ms/step - loss: 0.1154 - accuracy: 0.9629 - val_loss: 0.1113 - val_accuracy: 0.9767\n",
      "Epoch 9/20\n",
      "403/403 [==============================] - 6s 15ms/step - loss: 0.1088 - accuracy: 0.9674 - val_loss: 0.1150 - val_accuracy: 0.9764\n",
      "Epoch 10/20\n",
      "403/403 [==============================] - 6s 15ms/step - loss: 0.0980 - accuracy: 0.9732 - val_loss: 0.0806 - val_accuracy: 0.9770\n",
      "Epoch 11/20\n",
      "403/403 [==============================] - 6s 16ms/step - loss: 0.0902 - accuracy: 0.9763 - val_loss: 0.1297 - val_accuracy: 0.9661\n",
      "Epoch 12/20\n",
      "403/403 [==============================] - 7s 16ms/step - loss: 0.0937 - accuracy: 0.9759 - val_loss: 0.0782 - val_accuracy: 0.9801\n",
      "Epoch 13/20\n",
      "403/403 [==============================] - 6s 16ms/step - loss: 0.0851 - accuracy: 0.9784 - val_loss: 0.0800 - val_accuracy: 0.9804\n",
      "Epoch 14/20\n",
      "403/403 [==============================] - 7s 17ms/step - loss: 0.0814 - accuracy: 0.9787 - val_loss: 0.0690 - val_accuracy: 0.9807\n",
      "Epoch 15/20\n",
      "403/403 [==============================] - 6s 15ms/step - loss: 0.0810 - accuracy: 0.9793 - val_loss: 0.0870 - val_accuracy: 0.9786\n",
      "Epoch 16/20\n",
      "403/403 [==============================] - 7s 16ms/step - loss: 0.0850 - accuracy: 0.9778 - val_loss: 0.0719 - val_accuracy: 0.9801\n",
      "Epoch 17/20\n",
      "403/403 [==============================] - 6s 16ms/step - loss: 0.0772 - accuracy: 0.9793 - val_loss: 0.2135 - val_accuracy: 0.9493\n",
      "Epoch 18/20\n",
      "403/403 [==============================] - 7s 16ms/step - loss: 0.0867 - accuracy: 0.9761 - val_loss: 0.0667 - val_accuracy: 0.9817\n",
      "Epoch 19/20\n",
      "403/403 [==============================] - 7s 16ms/step - loss: 0.0837 - accuracy: 0.9777 - val_loss: 0.0714 - val_accuracy: 0.9820\n",
      "Epoch 20/20\n",
      "403/403 [==============================] - 6s 16ms/step - loss: 0.0769 - accuracy: 0.9786 - val_loss: 0.0678 - val_accuracy: 0.9782\n"
     ]
    },
    {
     "data": {
      "text/plain": [
       "<keras.callbacks.History at 0x1c100a33550>"
      ]
     },
     "execution_count": 18,
     "metadata": {},
     "output_type": "execute_result"
    }
   ],
   "source": [
    "# Fit the model\n",
    "model.fit(X_train, y_train, validation_data=(X_test, y_test), epochs=20,batch_size=32)"
   ]
  },
  {
   "cell_type": "code",
   "execution_count": 19,
   "id": "ef146f5c",
   "metadata": {},
   "outputs": [
    {
     "name": "stdout",
     "output_type": "stream",
     "text": [
      "Test accuracy: 0.978247344493866\n"
     ]
    }
   ],
   "source": [
    "# Evaluate the model\n",
    "score = model.evaluate(X_test, y_test, verbose=0)\n",
    "#print('Test loss:', score[0])\n",
    "print('Test accuracy:', score[1])"
   ]
  },
  {
   "cell_type": "code",
   "execution_count": 20,
   "id": "68e67aa4",
   "metadata": {},
   "outputs": [
    {
     "name": "stderr",
     "output_type": "stream",
     "text": [
      "C:\\Users\\ELEN\\anaconda3\\lib\\site-packages\\keras\\optimizers\\optimizer_v2\\adam.py:117: UserWarning: The `lr` argument is deprecated, use `learning_rate` instead.\n",
      "  super().__init__(name, **kwargs)\n"
     ]
    }
   ],
   "source": [
    "#definir el modelo CNN + ConvLSTM\n",
    "modelo = Sequential()\n",
    "modelo.add(Conv1D(filters=64, kernel_size=3, activation='relu', input_shape=(X_train.shape[1], 1)))\n",
    "modelo.add(MaxPooling1D(pool_size=2))\n",
    "modelo.add(LSTM(32))\n",
    "modelo.add(Dense(1, activation='sigmoid'))\n",
    "modelo.compile(optimizer=Adam(lr=0.001), loss='binary_crossentropy', metrics=['accuracy'])"
   ]
  },
  {
   "cell_type": "code",
   "execution_count": 21,
   "id": "bf1b0dae",
   "metadata": {
    "scrolled": true
   },
   "outputs": [
    {
     "name": "stdout",
     "output_type": "stream",
     "text": [
      "Epoch 1/20\n",
      "429/429 [==============================] - 5s 7ms/step - loss: 0.2289 - accuracy: 0.9044 - val_loss: 0.1006 - val_accuracy: 0.9683\n",
      "Epoch 2/20\n",
      "429/429 [==============================] - 3s 6ms/step - loss: 0.1119 - accuracy: 0.9672 - val_loss: 0.0973 - val_accuracy: 0.9727\n",
      "Epoch 3/20\n",
      "429/429 [==============================] - 3s 7ms/step - loss: 0.0981 - accuracy: 0.9721 - val_loss: 0.0776 - val_accuracy: 0.9804\n",
      "Epoch 4/20\n",
      "429/429 [==============================] - 4s 9ms/step - loss: 0.0907 - accuracy: 0.9740 - val_loss: 0.0742 - val_accuracy: 0.9782\n",
      "Epoch 5/20\n",
      "429/429 [==============================] - 3s 6ms/step - loss: 0.0871 - accuracy: 0.9745 - val_loss: 0.0770 - val_accuracy: 0.9820\n",
      "Epoch 6/20\n",
      "429/429 [==============================] - 3s 6ms/step - loss: 0.0818 - accuracy: 0.9767 - val_loss: 0.0654 - val_accuracy: 0.9823\n",
      "Epoch 7/20\n",
      "429/429 [==============================] - 3s 7ms/step - loss: 0.0747 - accuracy: 0.9788 - val_loss: 0.0720 - val_accuracy: 0.9770\n",
      "Epoch 8/20\n",
      "429/429 [==============================] - 3s 7ms/step - loss: 0.0720 - accuracy: 0.9793 - val_loss: 0.0668 - val_accuracy: 0.9798\n",
      "Epoch 9/20\n",
      "429/429 [==============================] - 3s 6ms/step - loss: 0.0691 - accuracy: 0.9789 - val_loss: 0.0675 - val_accuracy: 0.9820\n",
      "Epoch 10/20\n",
      "429/429 [==============================] - 3s 6ms/step - loss: 0.0686 - accuracy: 0.9789 - val_loss: 0.0617 - val_accuracy: 0.9820\n",
      "Epoch 11/20\n",
      "429/429 [==============================] - 3s 6ms/step - loss: 0.0649 - accuracy: 0.9798 - val_loss: 0.0679 - val_accuracy: 0.9795\n",
      "Epoch 12/20\n",
      "429/429 [==============================] - 3s 7ms/step - loss: 0.0652 - accuracy: 0.9791 - val_loss: 0.0891 - val_accuracy: 0.9761\n",
      "Epoch 13/20\n",
      "429/429 [==============================] - 4s 9ms/step - loss: 0.0614 - accuracy: 0.9798 - val_loss: 0.0635 - val_accuracy: 0.9817\n",
      "Epoch 14/20\n",
      "429/429 [==============================] - 3s 6ms/step - loss: 0.0640 - accuracy: 0.9800 - val_loss: 0.0565 - val_accuracy: 0.9835\n",
      "Epoch 15/20\n",
      "429/429 [==============================] - 2s 6ms/step - loss: 0.0693 - accuracy: 0.9781 - val_loss: 0.0638 - val_accuracy: 0.9804\n",
      "Epoch 16/20\n",
      "429/429 [==============================] - 3s 7ms/step - loss: 0.0615 - accuracy: 0.9801 - val_loss: 0.0614 - val_accuracy: 0.9826\n",
      "Epoch 17/20\n",
      "429/429 [==============================] - 2s 6ms/step - loss: 0.0612 - accuracy: 0.9803 - val_loss: 0.0620 - val_accuracy: 0.9826\n",
      "Epoch 18/20\n",
      "429/429 [==============================] - 3s 7ms/step - loss: 0.0602 - accuracy: 0.9801 - val_loss: 0.0547 - val_accuracy: 0.9826\n",
      "Epoch 19/20\n",
      "429/429 [==============================] - 4s 9ms/step - loss: 0.0584 - accuracy: 0.9802 - val_loss: 0.0555 - val_accuracy: 0.9826\n",
      "Epoch 20/20\n",
      "429/429 [==============================] - 3s 6ms/step - loss: 0.0558 - accuracy: 0.9808 - val_loss: 0.0523 - val_accuracy: 0.9829\n"
     ]
    },
    {
     "data": {
      "text/plain": [
       "<keras.callbacks.History at 0x1c10411cc10>"
      ]
     },
     "execution_count": 21,
     "metadata": {},
     "output_type": "execute_result"
    }
   ],
   "source": [
    "modelo.fit(X_train, y_train, validation_data=(X_test, y_test), epochs=20,batch_size=30)"
   ]
  },
  {
   "cell_type": "code",
   "execution_count": 22,
   "id": "b192c98c",
   "metadata": {},
   "outputs": [
    {
     "name": "stdout",
     "output_type": "stream",
     "text": [
      "Test accuracy: 0.9829086661338806\n"
     ]
    }
   ],
   "source": [
    "# Evaluate the model\n",
    "score = modelo.evaluate(X_test, y_test, verbose=0)\n",
    "#print('Test loss:', score[0])\n",
    "print('Test accuracy:', score[1])"
   ]
  },
  {
   "cell_type": "code",
   "execution_count": 23,
   "id": "7e72c59b",
   "metadata": {},
   "outputs": [
    {
     "data": {
      "text/plain": [
       "<Figure size 640x480 with 0 Axes>"
      ]
     },
     "metadata": {},
     "output_type": "display_data"
    }
   ],
   "source": [
    "#set up plotting area\n",
    "plt.figure(0).clf()"
   ]
  },
  {
   "cell_type": "code",
   "execution_count": 29,
   "id": "924ec159",
   "metadata": {},
   "outputs": [
    {
     "name": "stderr",
     "output_type": "stream",
     "text": [
      "C:\\Users\\ELEN\\anaconda3\\lib\\site-packages\\sklearn\\neighbors\\_classification.py:228: FutureWarning: Unlike other reduction functions (e.g. `skew`, `kurtosis`), the default behavior of `mode` typically preserves the axis it acts along. In SciPy 1.11.0, this behavior will change: the default value of `keepdims` will become False, the `axis` over which the statistic is taken will be eliminated, and the value None will no longer be accepted. Set `keepdims` to True or False to avoid this warning.\n",
      "  mode, _ = stats.mode(_y[neigh_ind, k], axis=1)\n"
     ]
    },
    {
     "name": "stdout",
     "output_type": "stream",
     "text": [
      "  8/101 [=>............................] - ETA: 0s"
     ]
    },
    {
     "name": "stderr",
     "output_type": "stream",
     "text": [
      "C:\\Users\\ELEN\\anaconda3\\lib\\site-packages\\sklearn\\neighbors\\_classification.py:228: FutureWarning: Unlike other reduction functions (e.g. `skew`, `kurtosis`), the default behavior of `mode` typically preserves the axis it acts along. In SciPy 1.11.0, this behavior will change: the default value of `keepdims` will become False, the `axis` over which the statistic is taken will be eliminated, and the value None will no longer be accepted. Set `keepdims` to True or False to avoid this warning.\n",
      "  mode, _ = stats.mode(_y[neigh_ind, k], axis=1)\n"
     ]
    },
    {
     "name": "stdout",
     "output_type": "stream",
     "text": [
      "101/101 [==============================] - 1s 6ms/step\n",
      "101/101 [==============================] - 0s 5ms/step\n"
     ]
    },
    {
     "data": {
      "text/plain": [
       "<matplotlib.legend.Legend at 0x1c109e0d1f0>"
      ]
     },
     "execution_count": 29,
     "metadata": {},
     "output_type": "execute_result"
    },
    {
     "data": {
      "image/png": "[encoded data removed]",
      "text/plain": [
       "<Figure size 640x480 with 1 Axes>"
      ]
     },
     "metadata": {},
     "output_type": "display_data"
    }
   ],
   "source": [
    "y_pred = classifier.predict(X_test)\n",
    "fpr, tpr, _ = metrics.roc_curve(y_test, y_pred)\n",
    "CNN = \"Accuracy = {:.2f}\".format(classifier.score(X_test, y_test.values)*100)\n",
    "plt.plot(fpr,tpr,label=\"CNN, AUC=\"+str(CNN))\n",
    "\n",
    "y_pred = lr.predict(X_test)\n",
    "fpr, tpr, _ = metrics.roc_curve(y_test, y_pred)\n",
    "LR = \"Accuracy = {:.2f}\".format(lr.score(X_test, y_test.values)*100)\n",
    "plt.plot(fpr,tpr,label=\"Logistic Regression, AUC=\"+str(LR))\n",
    "\n",
    "y_pred = model.predict(X_test)\n",
    "fpr, tpr, _ = metrics.roc_curve(y_test, y_pred)\n",
    "LSTM = \"Accuracy = {:.2f}\".format(model.evaluate(X_test, y_test, verbose=0)\n",
    "plt.plot(fpr,tpr,label=\"LSTM, AUC=\"+str(LSTM[1]))\n",
    "\n",
    "y_pred = modelo.predict(X_test)\n",
    "fpr, tpr, _ = metrics.roc_curve(y_test, y_pred)\n",
    "CNN_ConvLSTM = modelo.evaluate(X_test, y_test, verbose=0)\n",
    "plt.plot(fpr,tpr,label=\"CNN + ConvLSTM, AUC=\"+str(CNN_ConvLSTM[1]))\n",
    "\n",
    "plt.legend()"
   ]
  },
  {
   "cell_type": "code",
   "execution_count": 33,
   "id": "ea38eb37",
   "metadata": {},
   "outputs": [
    {
     "data": {
      "image/png": "[encoded data removed]",
      "text/plain": [
       "<Figure size 640x480 with 1 Axes>"
      ]
     },
     "metadata": {},
     "output_type": "display_data"
    }
   ],
   "source": [
    "#Código para mostrar la comparación de métricas de desempeño de las dos propuestas en tabla\n",
    "modelos = []\n",
    "modelos.append(('CNN', 'Convolutional Neural Network', cart))\n",
    "modelos.append(('LR', 'Regresion Logistica', rfc))\n",
    "modelos.append(('LSTM', 'LSTM', LSTM[1]))\n",
    "modelos.append(('CNN + ConvLSTM', 'CNN + ConvLSTM', CNN_ConvLSTM[1]))\n",
    "\n",
    "modelos\n",
    "\n",
    "comparativa = pd.DataFrame(modelos,columns=['Acrónimo', 'Algoritmo', 'Accuracy']).sort_values('Accuracy', ascending=0)\n",
    "comparativa\n",
    "\n",
    "\n",
    "\n",
    "#Código para mostrar la comparación de métricas de desempeño de las dos propuestas en gráfica\n",
    "ejex = comparativa['Acrónimo']\n",
    "ejey = round(comparativa['Accuracy'],4) \n",
    "num = np.arange(len(ejex))\n",
    "ancho = 0.75\n",
    " \n",
    "fig, ax = plt.subplots() \n",
    "rects1 = ax.bar(num, ejey, ancho, label='Algoritmo')\n",
    "\n",
    "ax.set_xlabel('Algoritmo')\n",
    "ax.set_ylabel('Accuracy')\n",
    "ax.set_title('Comparativa de Clasificación', fontsize=20)\n",
    "ax.set_xticks(num)\n",
    "ax.set_xticklabels(ejex)\n",
    "ax.legend()\n",
    " \n",
    "def autolabel(rects):\n",
    "    for rect in rects:\n",
    "        height = rect.get_height()\n",
    "        ax.annotate('{}'.format(height),\n",
    "                    xy=(rect.get_x() + rect.get_width() / 2, height), xytext=(0, 0),\n",
    "                    textcoords=\"offset points\", ha='center', va='bottom')\n",
    "autolabel(rects1)\n",
    "fig.tight_layout()\n",
    "\n",
    "plt.show()"
   ]
  },
  {
   "cell_type": "code",
   "execution_count": null,
   "id": "f9fb8590",
   "metadata": {},
   "outputs": [],
   "source": []
  }
 ],
 "metadata": {
  "kernelspec": {
   "display_name": "Python 3 (ipykernel)",
   "language": "python",
   "name": "python3"
  },
  "language_info": {
   "codemirror_mode": {
    "name": "ipython",
    "version": 3
   },
   "file_extension": ".py",
   "mimetype": "text/x-python",
   "name": "python",
   "nbconvert_exporter": "python",
   "pygments_lexer": "ipython3",
   "version": "3.9.13"
  }
 },
 "nbformat": 4,
 "nbformat_minor": 5
}
